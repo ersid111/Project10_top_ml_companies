{
 "cells": [
  {
   "cell_type": "code",
   "execution_count": 1,
   "metadata": {},
   "outputs": [
    {
     "name": "stderr",
     "output_type": "stream",
     "text": [
      "[nltk_data] Downloading package punkt to\n",
      "[nltk_data]     C:\\Users\\mordes\\AppData\\Roaming\\nltk_data...\n",
      "[nltk_data]   Package punkt is already up-to-date!\n"
     ]
    },
    {
     "data": {
      "text/plain": [
       "True"
      ]
     },
     "execution_count": 1,
     "metadata": {},
     "output_type": "execute_result"
    }
   ],
   "source": [
    "import nltk\n",
    "nltk.download('punkt')"
   ]
  },
  {
   "cell_type": "code",
   "execution_count": 2,
   "metadata": {},
   "outputs": [],
   "source": [
    "corpus ='''Avul Pakir Jainulabdeen Abdul Kalam was born on 15 October 1931, to a Tamil Muslim family in the pilgrimage centre of Rameswaram on Pamban Island, then in the Madras Presidency and now in the State of Tamil Nadu. His father Jainulabdeen Marakayar was a boat owner and imam of a local mosque;[9] his mother Ashiamma was a housewife.[10][11][12][13] His father owned a ferry that took Hindu pilgrims back and forth between Rameswaram and the now uninhabited Dhanushkodi.[14][15] Kalam was the youngest of four brothers and one sister in his family.[16][17][18] His ancestors had been wealthy Marakayar traders and landowners, with numerous properties and large tracts of land. Even though his ancestors had been wealthy Marakayar traders, the family had lost most of its fortunes by the 1920s and was poverty-stricken by the time Kalam was born. Marakayar are a Muslim ethnic found in coastal Tamil Nadu and Sri Lanka who claim descendance from Arab traders and local women. Their business had involved trading groceries between the mainland and the island and to and from Sri Lanka, as well as ferrying pilgrims between the mainland and Pamban. As a young boy he had to sell newspapers in order to add to the family's meager income. With the opening of the Pamban Bridge to the mainland in 1914, however, the businesses failed and the family fortune and properties were lost over time, apart from the ancestral home.[19][20][21]'''"
   ]
  },
  {
   "cell_type": "code",
   "execution_count": 16,
   "metadata": {},
   "outputs": [],
   "source": [
    "#tokenization\n",
    "sentences=nltk.sent_tokenize(corpus)\n"
   ]
  },
  {
   "cell_type": "code",
   "execution_count": 8,
   "metadata": {},
   "outputs": [],
   "source": [
    "#tokenizing words\n",
    "\n",
    "words=nltk.word_tokenize(corpus)\n"
   ]
  },
  {
   "cell_type": "code",
   "execution_count": 12,
   "metadata": {},
   "outputs": [],
   "source": [
    "from nltk.stem import PorterStemmer,WordNetLemmatizer\n",
    "from nltk.corpus import stopwords\n"
   ]
  },
  {
   "cell_type": "code",
   "execution_count": 10,
   "metadata": {},
   "outputs": [],
   "source": [
    "stemmer=PorterStemmer()\n",
    "\n",
    "for i in range(len(sentences)):\n",
    "    words=nltk.word_tokenize(sentences[i])\n",
    "    words=[stemmer.stem(word) for word in words if word not in set(stopwords.words(\"english\"))]\n",
    "    sentences[i]=\" \".join(words)"
   ]
  },
  {
   "cell_type": "code",
   "execution_count": 18,
   "metadata": {},
   "outputs": [
    {
     "data": {
      "text/plain": [
       "['Avul Pakir Jainulabdeen Abdul Kalam born 15 October 1931 , Tamil Muslim family pilgrimage centre Rameswaram Pamban Island , Madras Presidency State Tamil Nadu .',\n",
       " 'His father Jainulabdeen Marakayar boat owner imam local mosque ; [ 9 ] mother Ashiamma housewife .',\n",
       " '[ 10 ] [ 11 ] [ 12 ] [ 13 ] His father owned ferry took Hindu pilgrim back forth Rameswaram uninhabited Dhanushkodi .',\n",
       " '[ 14 ] [ 15 ] Kalam youngest four brother one sister family .',\n",
       " '[ 16 ] [ 17 ] [ 18 ] His ancestor wealthy Marakayar trader landowner , numerous property large tract land .',\n",
       " 'Even though ancestor wealthy Marakayar trader , family lost fortune 1920s poverty-stricken time Kalam born .',\n",
       " 'Marakayar Muslim ethnic found coastal Tamil Nadu Sri Lanka claim descendance Arab trader local woman .',\n",
       " 'Their business involved trading grocery mainland island Sri Lanka , well ferrying pilgrim mainland Pamban .',\n",
       " \"As young boy sell newspaper order add family 's meager income .\",\n",
       " 'With opening Pamban Bridge mainland 1914 , however , business failed family fortune property lost time , apart ancestral home .',\n",
       " '[ 19 ] [ 20 ] [ 21 ]']"
      ]
     },
     "execution_count": 18,
     "metadata": {},
     "output_type": "execute_result"
    }
   ],
   "source": [
    "lemmitizer=WordNetLemmatizer()\n",
    "\n",
    "for i in range(len(sentences)):\n",
    "    words=nltk.word_tokenize(sentences[i])\n",
    "    words=[lemmitizer.lemmatize(word) for word in words if word not in set(stopwords.words(\"english\"))]\n",
    "    sentences[i]=\" \".join(words)\n",
    "sentences"
   ]
  },
  {
   "cell_type": "code",
   "execution_count": 21,
   "metadata": {},
   "outputs": [],
   "source": [
    "#Bag of words\n",
    "\n",
    "import re\n",
    "ps=PorterStemmer()\n",
    "wordnet=WordNetLemmatizer()\n",
    "sentence=nltk.sent_tokenize(corpus)\n",
    "cor=[]\n",
    "for i in range(len(sentence)):\n",
    "    review=re.sub('[^a-zA-z]',' ',sentence[i])\n",
    "    review=review.lower()\n",
    "    review=review.split()\n",
    "    review=[ps.stem(word) for word in review if not word in set(stopwords.words('english'))]\n",
    "    review=\" \".join(review)\n",
    "    cor.append(review)\n"
   ]
  },
  {
   "cell_type": "code",
   "execution_count": 22,
   "metadata": {},
   "outputs": [],
   "source": [
    "from sklearn.feature_extraction.text import CountVectorizer\n",
    "cv=CountVectorizer(max_features=1500)"
   ]
  },
  {
   "cell_type": "code",
   "execution_count": 23,
   "metadata": {},
   "outputs": [],
   "source": [
    "x=cv.fit_transform(cor).toarray()"
   ]
  },
  {
   "cell_type": "code",
   "execution_count": 26,
   "metadata": {},
   "outputs": [
    {
     "data": {
      "text/plain": [
       "['avul pakir jainulabdeen abdul kalam born octob tamil muslim famili pilgrimag centr rameswaram pamban island madra presid state tamil nadu',\n",
       " 'father jainulabdeen marakayar boat owner imam local mosqu [ ] mother ashiamma housewif',\n",
       " '[ ][ ][ ][ ] father own ferri took hindu pilgrim back forth rameswaram uninhabit dhanushkodi',\n",
       " '[ ][ ] kalam youngest four brother one sister famili',\n",
       " '[ ][ ][ ] ancestor wealthi marakayar trader landown numer properti larg tract land',\n",
       " 'even though ancestor wealthi marakayar trader famili lost fortun poverti stricken time kalam born',\n",
       " 'marakayar muslim ethnic found coastal tamil nadu sri lanka claim descend arab trader local women',\n",
       " 'busi involv trade groceri mainland island sri lanka well ferri pilgrim mainland pamban',\n",
       " 'young boy sell newspap order add famili meager incom',\n",
       " 'open pamban bridg mainland howev busi fail famili fortun properti lost time apart ancestr home',\n",
       " '[ ][ ][ ]']"
      ]
     },
     "execution_count": 26,
     "metadata": {},
     "output_type": "execute_result"
    }
   ],
   "source": [
    "cor"
   ]
  },
  {
   "cell_type": "code",
   "execution_count": 25,
   "metadata": {},
   "outputs": [
    {
     "data": {
      "text/plain": [
       "['avul pakir jainulabdeen abdul kalam born octob tamil muslim famili pilgrimag centr rameswaram pamban island madra presid state tamil nadu',\n",
       " 'father jainulabdeen marakayar boat owner imam local mosqu [ ] mother ashiamma housewif',\n",
       " '[ ][ ][ ][ ] father own ferri took hindu pilgrim back forth rameswaram uninhabit dhanushkodi',\n",
       " '[ ][ ] kalam youngest four brother one sister famili',\n",
       " '[ ][ ][ ] ancestor wealthi marakayar trader landown numer properti larg tract land',\n",
       " 'even though ancestor wealthi marakayar trader famili lost fortun poverti stricken time kalam born',\n",
       " 'marakayar muslim ethnic found coastal tamil nadu sri lanka claim descend arab trader local women',\n",
       " 'busi involv trade groceri mainland island sri lanka well ferri pilgrim mainland pamban',\n",
       " 'young boy sell newspap order add famili meager incom',\n",
       " 'open pamban bridg mainland howev busi fail famili fortun properti lost time apart ancestr home',\n",
       " '[ ][ ][ ]']"
      ]
     },
     "execution_count": 25,
     "metadata": {},
     "output_type": "execute_result"
    }
   ],
   "source": [
    "cor"
   ]
  },
  {
   "cell_type": "code",
   "execution_count": null,
   "metadata": {},
   "outputs": [],
   "source": []
  }
 ],
 "metadata": {
  "kernelspec": {
   "display_name": "Python 3.10.3 64-bit",
   "language": "python",
   "name": "python3"
  },
  "language_info": {
   "codemirror_mode": {
    "name": "ipython",
    "version": 3
   },
   "file_extension": ".py",
   "mimetype": "text/x-python",
   "name": "python",
   "nbconvert_exporter": "python",
   "pygments_lexer": "ipython3",
   "version": "3.10.3"
  },
  "orig_nbformat": 4,
  "vscode": {
   "interpreter": {
    "hash": "ec04501b160b2f1c023a0c328658c9281b4c362c04e2daca7181a08fdf12613c"
   }
  }
 },
 "nbformat": 4,
 "nbformat_minor": 2
}
