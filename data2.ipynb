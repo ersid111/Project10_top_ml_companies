{
 "cells": [
  {
   "cell_type": "code",
   "execution_count": 1,
   "metadata": {},
   "outputs": [],
   "source": [
    "import requests\n",
    "import re\n",
    "import pandas as pd\n",
    "from bs4 import BeautifulSoup\n",
    "from autoscraper import AutoScraper"
   ]
  },
  {
   "cell_type": "markdown",
   "metadata": {},
   "source": []
  },
  {
   "cell_type": "code",
   "execution_count": 61,
   "metadata": {},
   "outputs": [
    {
     "data": {
      "text/plain": [
       "'https://clutch.co/in/developers/artificial-intelligence/machine-learning?page=0'"
      ]
     },
     "execution_count": 61,
     "metadata": {},
     "output_type": "execute_result"
    }
   ],
   "source": [
    "i=0\n",
    "\n",
    "url = \"https://clutch.co/in/developers/artificial-intelligence/machine-learning?page=\"+str(i)\n",
    "url"
   ]
  },
  {
   "cell_type": "code",
   "execution_count": null,
   "metadata": {},
   "outputs": [],
   "source": [
    " https://www.infospica.com?utm_campaign=directory&amp;utm_medium=referral&amp;utm_source=themanifest.com"
   ]
  },
  {
   "cell_type": "code",
   "execution_count": 96,
   "metadata": {},
   "outputs": [
    {
     "data": {
      "text/plain": [
       "'\"\\n        target=\"_blank\"\"'"
      ]
     },
     "execution_count": 96,
     "metadata": {},
     "output_type": "execute_result"
    }
   ],
   "source": [
    "a='''\"\n",
    "        target=\"_blank\"\"'''\n",
    "\n",
    "\n",
    "a"
   ]
  },
  {
   "cell_type": "code",
   "execution_count": 131,
   "metadata": {},
   "outputs": [
    {
     "name": "stderr",
     "output_type": "stream",
     "text": [
      "c:\\Users\\mordes\\AppData\\Local\\Programs\\Python\\Python310\\lib\\site-packages\\urllib3\\connectionpool.py:1043: InsecureRequestWarning: Unverified HTTPS request is being made to host 'themanifest.com'. Adding certificate verification is strongly advised. See: https://urllib3.readthedocs.io/en/1.26.x/advanced-usage.html#ssl-warnings\n",
      "  warnings.warn(\n"
     ]
    }
   ],
   "source": [
    "Name=[]\n",
    "info=[]\n",
    "location=[]\n",
    "Website=[]\n",
    "for i in range(1):\n",
    "    url = \"https://themanifest.com/in/artificial-intelligence/machine-learning/companies?page=\"+str(i)\n",
    "    page = requests.get(url, verify=False)\n",
    "    page_text =page.text\n",
    "\n",
    "    Comany_name = (re.findall('<li\\n  id=\"(.+?)\"\\n  class=\"provider-card\"', page_text))\n",
    "    # company_info = (re.findall('class=\"company_info__wrap tagline\">(.+?)</p>', page_text))\n",
    "    # company_location=(re.findall('<span class=\"locality\">(.+?)</span>', page_text))\n",
    "    website=(re.findall(' <a\\n        href=\"(.+?)\"\\n        target=\"_blank\"', page_text))\n",
    "\n",
    "    Name=Name+Comany_name\n",
    "    # info=info+company_info\n",
    "    # location=location+company_location\n",
    "    Website=Website+website\n",
    "    Name"
   ]
  },
  {
   "cell_type": "code",
   "execution_count": 132,
   "metadata": {},
   "outputs": [],
   "source": [
    "a=\"https://clutch.co\"\n",
    "empty_index=[]\n",
    "for i in range(len(Website)):\n",
    "    if a in Website[i]:\n",
    "        empty_index.append(i)"
   ]
  },
  {
   "cell_type": "code",
   "execution_count": 138,
   "metadata": {},
   "outputs": [
    {
     "ename": "ValueError",
     "evalue": "list.remove(x): x not in list",
     "output_type": "error",
     "traceback": [
      "\u001b[1;31m---------------------------------------------------------------------------\u001b[0m",
      "\u001b[1;31mValueError\u001b[0m                                Traceback (most recent call last)",
      "\u001b[1;32mc:\\Users\\mordes\\Downloads\\PROJECTS\\Project 10 Top ML Companies and contact number\\data.ipynb Cell 8\u001b[0m in \u001b[0;36m<cell line: 1>\u001b[1;34m()\u001b[0m\n\u001b[0;32m      <a href='vscode-notebook-cell:/c%3A/Users/mordes/Downloads/PROJECTS/Project%2010%20Top%20ML%20Companies%20and%20contact%20number/data.ipynb#ch0000017?line=0'>1</a>\u001b[0m \u001b[39mfor\u001b[39;00m i \u001b[39min\u001b[39;00m empty_index:\n\u001b[1;32m----> <a href='vscode-notebook-cell:/c%3A/Users/mordes/Downloads/PROJECTS/Project%2010%20Top%20ML%20Companies%20and%20contact%20number/data.ipynb#ch0000017?line=1'>2</a>\u001b[0m     Website\u001b[39m.\u001b[39;49mremove(i)\n",
      "\u001b[1;31mValueError\u001b[0m: list.remove(x): x not in list"
     ]
    }
   ],
   "source": [
    "for i in empty_index:\n",
    "    Website.remove(i)"
   ]
  },
  {
   "cell_type": "code",
   "execution_count": null,
   "metadata": {},
   "outputs": [],
   "source": [
    "df=pd.DataFrame({\"Comany_name\":Name,'company_info':info,'company_location':location,\"Website\":Website})"
   ]
  },
  {
   "cell_type": "code",
   "execution_count": 129,
   "metadata": {},
   "outputs": [
    {
     "data": {
      "text/html": [
       "<div>\n",
       "<style scoped>\n",
       "    .dataframe tbody tr th:only-of-type {\n",
       "        vertical-align: middle;\n",
       "    }\n",
       "\n",
       "    .dataframe tbody tr th {\n",
       "        vertical-align: top;\n",
       "    }\n",
       "\n",
       "    .dataframe thead th {\n",
       "        text-align: right;\n",
       "    }\n",
       "</style>\n",
       "<table border=\"1\" class=\"dataframe\">\n",
       "  <thead>\n",
       "    <tr style=\"text-align: right;\">\n",
       "      <th></th>\n",
       "      <th>Comany_name</th>\n",
       "      <th>company_info</th>\n",
       "      <th>company_location</th>\n",
       "      <th>Website</th>\n",
       "    </tr>\n",
       "  </thead>\n",
       "  <tbody>\n",
       "    <tr>\n",
       "      <th>0</th>\n",
       "      <td>Talentica Software</td>\n",
       "      <td>Exclusive Technology Partner for Startups.</td>\n",
       "      <td>Pune, India</td>\n",
       "      <td>https://www.talentica.com/?utm_source&amp;#61;clut...</td>\n",
       "    </tr>\n",
       "    <tr>\n",
       "      <th>7</th>\n",
       "      <td>TechSpeed Inc</td>\n",
       "      <td>DATA PROCESSING &amp; A.I SUPPORT SERVICES</td>\n",
       "      <td>Pune, India</td>\n",
       "      <td>http://www.techspeed.com/?utm_source&amp;#61;clutc...</td>\n",
       "    </tr>\n",
       "    <tr>\n",
       "      <th>11</th>\n",
       "      <td>Jointworks Solutions LLP</td>\n",
       "      <td>Next is Now</td>\n",
       "      <td>Pune, India</td>\n",
       "      <td>https://jointworksolutions.com/</td>\n",
       "    </tr>\n",
       "    <tr>\n",
       "      <th>27</th>\n",
       "      <td>BugendaiTech Pvt Ltd</td>\n",
       "      <td>Infinite Solutions Infinite Possibilites</td>\n",
       "      <td>Pune, India</td>\n",
       "      <td>https://bugendaitech.com/</td>\n",
       "    </tr>\n",
       "    <tr>\n",
       "      <th>37</th>\n",
       "      <td>Saviant Consulting</td>\n",
       "      <td>Applying Intelligence</td>\n",
       "      <td>Pune, India</td>\n",
       "      <td>http://www.saviantconsulting.com</td>\n",
       "    </tr>\n",
       "    <tr>\n",
       "      <th>74</th>\n",
       "      <td>Juppiter AI Labs</td>\n",
       "      <td>We help our clients focus on their business.</td>\n",
       "      <td>Pune, India</td>\n",
       "      <td>https://juppiterailabs.com/index.php/about/</td>\n",
       "    </tr>\n",
       "    <tr>\n",
       "      <th>84</th>\n",
       "      <td>Dataeaze Systems</td>\n",
       "      <td>Making it easy to work with Data</td>\n",
       "      <td>Pune, India</td>\n",
       "      <td>http://www.dataeaze.io/</td>\n",
       "    </tr>\n",
       "    <tr>\n",
       "      <th>104</th>\n",
       "      <td>NutaNXT Technologies</td>\n",
       "      <td>Let's Accelerate Your Digital Product Journey</td>\n",
       "      <td>Pune, India</td>\n",
       "      <td>https://nutanxt.com/</td>\n",
       "    </tr>\n",
       "    <tr>\n",
       "      <th>125</th>\n",
       "      <td>Turnkey Tech Solutions</td>\n",
       "      <td>Building technology for the future</td>\n",
       "      <td>Pune, India</td>\n",
       "      <td>https://www.turnkey.work/#services</td>\n",
       "    </tr>\n",
       "    <tr>\n",
       "      <th>132</th>\n",
       "      <td>Ecotech</td>\n",
       "      <td>Your Preferred IT Partner</td>\n",
       "      <td>Pune, India</td>\n",
       "      <td>http://www.ecotechservices.com</td>\n",
       "    </tr>\n",
       "    <tr>\n",
       "      <th>146</th>\n",
       "      <td>Topographix Solutions</td>\n",
       "      <td>AI is the last invention mankind will ever need</td>\n",
       "      <td>Pune, India</td>\n",
       "      <td>https://topographixequipments.com/</td>\n",
       "    </tr>\n",
       "    <tr>\n",
       "      <th>178</th>\n",
       "      <td>Centurysoft Private Limited</td>\n",
       "      <td>Real time, real world solutions</td>\n",
       "      <td>Pune, India</td>\n",
       "      <td>https://www.centurysoft.com/</td>\n",
       "    </tr>\n",
       "    <tr>\n",
       "      <th>192</th>\n",
       "      <td>Eumentis</td>\n",
       "      <td>Innovate Automate Transform</td>\n",
       "      <td>Pune, India</td>\n",
       "      <td>https://www.eumentis.com</td>\n",
       "    </tr>\n",
       "    <tr>\n",
       "      <th>194</th>\n",
       "      <td>Zerogons India pvt Ltd</td>\n",
       "      <td>Democratizing AI for Citizen Data Scientist</td>\n",
       "      <td>Pune, India</td>\n",
       "      <td>https://zerogons.com/</td>\n",
       "    </tr>\n",
       "    <tr>\n",
       "      <th>209</th>\n",
       "      <td>Resonating Mindz India Private Limited</td>\n",
       "      <td>Accelerate your Industry 4.0 Journey. Confidently</td>\n",
       "      <td>Pune, India</td>\n",
       "      <td>https://www.resonatingmindz.com</td>\n",
       "    </tr>\n",
       "    <tr>\n",
       "      <th>218</th>\n",
       "      <td>Emtec Inc.</td>\n",
       "      <td>Business and Technology Empowered</td>\n",
       "      <td>Pune, India</td>\n",
       "      <td>http://www.emtecinc.com/</td>\n",
       "    </tr>\n",
       "    <tr>\n",
       "      <th>250</th>\n",
       "      <td>Techspian Services</td>\n",
       "      <td>Spreading the Power of Technology</td>\n",
       "      <td>Pune, India</td>\n",
       "      <td>https://www.techspian.com/</td>\n",
       "    </tr>\n",
       "    <tr>\n",
       "      <th>262</th>\n",
       "      <td>ConnectingDots Infotech</td>\n",
       "      <td>Discover. Connect. Execute</td>\n",
       "      <td>Pune, India</td>\n",
       "      <td>https://connectingdotsinfotech.com/</td>\n",
       "    </tr>\n",
       "    <tr>\n",
       "      <th>275</th>\n",
       "      <td>Deep Info Lab</td>\n",
       "      <td>Innovate. Optimize. Deliver.</td>\n",
       "      <td>Pune, India</td>\n",
       "      <td>https://www.deepinfolab.com</td>\n",
       "    </tr>\n",
       "    <tr>\n",
       "      <th>279</th>\n",
       "      <td>Jash Data Sciences Pvt. Ltd.</td>\n",
       "      <td>Letting Data Speak!</td>\n",
       "      <td>Pune, India</td>\n",
       "      <td>https://www.jashds.com/</td>\n",
       "    </tr>\n",
       "    <tr>\n",
       "      <th>280</th>\n",
       "      <td>Ambit Software</td>\n",
       "      <td>Digital Transformation. Simplified.</td>\n",
       "      <td>Pune, India</td>\n",
       "      <td>https://www.ambitsoftware.com/</td>\n",
       "    </tr>\n",
       "    <tr>\n",
       "      <th>286</th>\n",
       "      <td>Fintalk Software Labs Pvt. Ltd.</td>\n",
       "      <td>ExpertAIML, IoT, Data Analytics, Embedded SW</td>\n",
       "      <td>Pune, India</td>\n",
       "      <td>https://fintalklabs.com</td>\n",
       "    </tr>\n",
       "    <tr>\n",
       "      <th>299</th>\n",
       "      <td>Penpenny Infotech</td>\n",
       "      <td>Innovate Better. Grow Faster.</td>\n",
       "      <td>Pune, India</td>\n",
       "      <td>https://www.penpennyinfotech.com/</td>\n",
       "    </tr>\n",
       "    <tr>\n",
       "      <th>350</th>\n",
       "      <td>BOTMATIC</td>\n",
       "      <td>Simplify, Standardize &amp; Automate !</td>\n",
       "      <td>Pune, India</td>\n",
       "      <td>https://www.botmaticsolution.com/</td>\n",
       "    </tr>\n",
       "    <tr>\n",
       "      <th>352</th>\n",
       "      <td>arieotech Solutions Private Limited</td>\n",
       "      <td>Innovate | Implement | Transform</td>\n",
       "      <td>Pune, India</td>\n",
       "      <td>https://www.arieotech.com</td>\n",
       "    </tr>\n",
       "  </tbody>\n",
       "</table>\n",
       "</div>"
      ],
      "text/plain": [
       "                                Comany_name  \\\n",
       "0                        Talentica Software   \n",
       "7                             TechSpeed Inc   \n",
       "11                 Jointworks Solutions LLP   \n",
       "27                     BugendaiTech Pvt Ltd   \n",
       "37                       Saviant Consulting   \n",
       "74                         Juppiter AI Labs   \n",
       "84                         Dataeaze Systems   \n",
       "104                    NutaNXT Technologies   \n",
       "125                  Turnkey Tech Solutions   \n",
       "132                                 Ecotech   \n",
       "146                   Topographix Solutions   \n",
       "178             Centurysoft Private Limited   \n",
       "192                                Eumentis   \n",
       "194                  Zerogons India pvt Ltd   \n",
       "209  Resonating Mindz India Private Limited   \n",
       "218                              Emtec Inc.   \n",
       "250                      Techspian Services   \n",
       "262                 ConnectingDots Infotech   \n",
       "275                           Deep Info Lab   \n",
       "279            Jash Data Sciences Pvt. Ltd.   \n",
       "280                          Ambit Software   \n",
       "286         Fintalk Software Labs Pvt. Ltd.   \n",
       "299                       Penpenny Infotech   \n",
       "350                                BOTMATIC   \n",
       "352     arieotech Solutions Private Limited   \n",
       "\n",
       "                                          company_info company_location  \\\n",
       "0           Exclusive Technology Partner for Startups.      Pune, India   \n",
       "7               DATA PROCESSING & A.I SUPPORT SERVICES      Pune, India   \n",
       "11                                         Next is Now      Pune, India   \n",
       "27            Infinite Solutions Infinite Possibilites      Pune, India   \n",
       "37                               Applying Intelligence      Pune, India   \n",
       "74        We help our clients focus on their business.      Pune, India   \n",
       "84                    Making it easy to work with Data      Pune, India   \n",
       "104      Let's Accelerate Your Digital Product Journey      Pune, India   \n",
       "125                 Building technology for the future      Pune, India   \n",
       "132                          Your Preferred IT Partner      Pune, India   \n",
       "146    AI is the last invention mankind will ever need      Pune, India   \n",
       "178                    Real time, real world solutions      Pune, India   \n",
       "192                        Innovate Automate Transform      Pune, India   \n",
       "194        Democratizing AI for Citizen Data Scientist      Pune, India   \n",
       "209  Accelerate your Industry 4.0 Journey. Confidently      Pune, India   \n",
       "218                  Business and Technology Empowered      Pune, India   \n",
       "250                  Spreading the Power of Technology      Pune, India   \n",
       "262                         Discover. Connect. Execute      Pune, India   \n",
       "275                       Innovate. Optimize. Deliver.      Pune, India   \n",
       "279                                Letting Data Speak!      Pune, India   \n",
       "280                Digital Transformation. Simplified.      Pune, India   \n",
       "286       ExpertAIML, IoT, Data Analytics, Embedded SW      Pune, India   \n",
       "299                      Innovate Better. Grow Faster.      Pune, India   \n",
       "350                 Simplify, Standardize & Automate !      Pune, India   \n",
       "352                   Innovate | Implement | Transform      Pune, India   \n",
       "\n",
       "                                               Website  \n",
       "0    https://www.talentica.com/?utm_source&#61;clut...  \n",
       "7    http://www.techspeed.com/?utm_source&#61;clutc...  \n",
       "11                     https://jointworksolutions.com/  \n",
       "27                           https://bugendaitech.com/  \n",
       "37                    http://www.saviantconsulting.com  \n",
       "74         https://juppiterailabs.com/index.php/about/  \n",
       "84                             http://www.dataeaze.io/  \n",
       "104                               https://nutanxt.com/  \n",
       "125                 https://www.turnkey.work/#services  \n",
       "132                     http://www.ecotechservices.com  \n",
       "146                 https://topographixequipments.com/  \n",
       "178                       https://www.centurysoft.com/  \n",
       "192                           https://www.eumentis.com  \n",
       "194                              https://zerogons.com/  \n",
       "209                    https://www.resonatingmindz.com  \n",
       "218                           http://www.emtecinc.com/  \n",
       "250                         https://www.techspian.com/  \n",
       "262                https://connectingdotsinfotech.com/  \n",
       "275                        https://www.deepinfolab.com  \n",
       "279                            https://www.jashds.com/  \n",
       "280                     https://www.ambitsoftware.com/  \n",
       "286                            https://fintalklabs.com  \n",
       "299                  https://www.penpennyinfotech.com/  \n",
       "350                  https://www.botmaticsolution.com/  \n",
       "352                          https://www.arieotech.com  "
      ]
     },
     "execution_count": 129,
     "metadata": {},
     "output_type": "execute_result"
    }
   ],
   "source": [
    "df.loc[df[\"company_location\"]==\"Pune, India\"]"
   ]
  },
  {
   "cell_type": "code",
   "execution_count": 81,
   "metadata": {},
   "outputs": [
    {
     "data": {
      "text/plain": [
       "str"
      ]
     },
     "execution_count": 81,
     "metadata": {},
     "output_type": "execute_result"
    }
   ],
   "source": [
    "type(df['Website'][0])"
   ]
  },
  {
   "cell_type": "code",
   "execution_count": 85,
   "metadata": {},
   "outputs": [],
   "source": [
    "for i in range(df.shape[0]):\n",
    "    df['Website'][i]='http'+df['Website'][i]"
   ]
  },
  {
   "cell_type": "code",
   "execution_count": 87,
   "metadata": {},
   "outputs": [],
   "source": [
    "df.to_excel(\"ML_COMPANY_INFO.xlsx\")"
   ]
  },
  {
   "cell_type": "code",
   "execution_count": 102,
   "metadata": {},
   "outputs": [
    {
     "data": {
      "text/plain": [
       "[]"
      ]
     },
     "execution_count": 102,
     "metadata": {},
     "output_type": "execute_result"
    }
   ],
   "source": [
    "Website"
   ]
  },
  {
   "cell_type": "code",
   "execution_count": 111,
   "metadata": {},
   "outputs": [
    {
     "data": {
      "text/plain": [
       "'\\n          target=\"_blank\"\\n          rel=\"nofollow\"\\n          class=\"track-website-visit\"'"
      ]
     },
     "execution_count": 111,
     "metadata": {},
     "output_type": "execute_result"
    }
   ],
   "source": [
    "a='''\n",
    "          target=\"_blank\"\n",
    "          rel=\"nofollow\"\n",
    "          class=\"track-website-visit\"'''\n",
    "a"
   ]
  },
  {
   "cell_type": "code",
   "execution_count": 136,
   "metadata": {},
   "outputs": [
    {
     "data": {
      "text/plain": [
       "40"
      ]
     },
     "execution_count": 136,
     "metadata": {},
     "output_type": "execute_result"
    }
   ],
   "source": [
    "len(Website)"
   ]
  },
  {
   "cell_type": "code",
   "execution_count": 137,
   "metadata": {},
   "outputs": [
    {
     "data": {
      "text/plain": [
       "['https://www.talentica.com/?utm_campaign=directory&amp;utm_medium=referral&amp;utm_source=themanifest.com',\n",
       " 'https://www.marutitech.com/?utm_campaign=directory&amp;utm_medium=referral&amp;utm_source=themanifest.com',\n",
       " 'https://clutch.co/profile/maruti-techlabs?utm_source=themanifest&utm_medium=profile&utm_content=2129022500000#reviews',\n",
       " 'https://clutch.co/profile/thirdeye-data?utm_source=themanifest&utm_medium=profile&utm_content=2129022500000#reviews',\n",
       " 'https://www.quytech.com/?utm_campaign=directory&amp;utm_medium=referral&amp;utm_source=themanifest.com',\n",
       " 'https://www.datatobiz.com/?utm_campaign=directory&amp;utm_medium=referral&amp;utm_source=themanifest.com',\n",
       " 'https://clutch.co/profile/datatobiz?utm_source=themanifest&utm_medium=profile&utm_content=2129022500000#reviews',\n",
       " 'https://clutch.co/profile/mtraction-enterprise?utm_source=themanifest&utm_medium=profile&utm_content=2129022500000#reviews',\n",
       " 'https://www.matellio.com/?utm_campaign=directory&amp;utm_medium=referral&amp;utm_source=themanifest.com',\n",
       " 'https://www.dotsquares.com/?utm_campaign=directory&amp;utm_medium=referral&amp;utm_source=themanifest.com',\n",
       " 'https://clutch.co/profile/dotsquares?utm_source=themanifest&utm_medium=profile&utm_content=2129022500000#reviews',\n",
       " 'https://clutch.co/profile/codewave-technologies?utm_source=themanifest&utm_medium=profile&utm_content=2129022500000#reviews',\n",
       " 'https://trigma.com/?utm_campaign=directory&amp;utm_medium=referral&amp;utm_source=themanifest.com',\n",
       " 'http://www.techspeed.com/?utm_campaign=directory&amp;utm_medium=referral&amp;utm_source=themanifest.com',\n",
       " 'https://clutch.co/profile/techspeed?utm_source=themanifest&utm_medium=profile&utm_content=2129022500000#reviews',\n",
       " 'https://clutch.co/profile/optisol-business-solutions?utm_source=themanifest&utm_medium=profile&utm_content=2129022500000#reviews',\n",
       " 'https://isolve.global/?utm_campaign=directory&amp;utm_medium=referral&amp;utm_source=themanifest.com',\n",
       " 'https://www.neoito.com?utm_campaign=directory&amp;utm_medium=referral&amp;utm_source=themanifest.com',\n",
       " 'https://clutch.co/profile/neoito?utm_source=themanifest&utm_medium=profile&utm_content=2129022500000#reviews',\n",
       " 'https://clutch.co/profile/hidden-brains-infotech?utm_source=themanifest&utm_medium=profile&utm_content=2129022500000#reviews',\n",
       " 'http://www.qburst.com/?utm_campaign=directory&amp;utm_medium=referral&amp;utm_source=themanifest.com',\n",
       " 'http://www.valiancesolutions.com?utm_campaign=directory&amp;utm_medium=referral&amp;utm_source=themanifest.com',\n",
       " 'https://clutch.co/profile/valiance-solutions?utm_source=themanifest&utm_medium=profile&utm_content=2129022500000#reviews',\n",
       " 'https://clutch.co/profile/yugasa-software-labs?utm_source=themanifest&utm_medium=profile&utm_content=2129022500000#reviews',\n",
       " 'http://www.goodworklabs.com?utm_campaign=directory&amp;utm_medium=referral&amp;utm_source=themanifest.com',\n",
       " 'https://www.knoldus.com/connect/contact-us?utm_campaign=directory&amp;utm_medium=referral&amp;utm_source=themanifest.com',\n",
       " 'https://clutch.co/profile/knoldus?utm_source=themanifest&utm_medium=profile&utm_content=2129022500000#reviews',\n",
       " 'https://clutch.co/profile/i-can-infotech-0?utm_source=themanifest&utm_medium=profile&utm_content=2129022500000#reviews',\n",
       " 'https://www.aqbsolutions.com/?utm_campaign=directory&amp;utm_medium=referral&amp;utm_source=themanifest.com',\n",
       " 'http://www.reckonsys.com/?utm_campaign=directory&amp;utm_medium=referral&amp;utm_source=themanifest.com',\n",
       " 'https://clutch.co/profile/reckonsys?utm_source=themanifest&utm_medium=profile&utm_content=2129022500000#reviews',\n",
       " 'https://clutch.co/profile/jointworks-solutions-llp?utm_source=themanifest&utm_medium=profile&utm_content=2129022500000#reviews',\n",
       " 'https://www.neenopal.com/?utm_campaign=directory&amp;utm_medium=referral&amp;utm_source=themanifest.com',\n",
       " 'https://bugendaitech.com/?utm_campaign=directory&amp;utm_medium=referral&amp;utm_source=themanifest.com',\n",
       " 'https://clutch.co/profile/bugendaitech?utm_source=themanifest&utm_medium=profile&utm_content=2129022500000#reviews',\n",
       " 'https://clutch.co/profile/ideas2it-technologies?utm_source=themanifest&utm_medium=profile&utm_content=2129022500000#reviews',\n",
       " 'https://www.solutionanalysts.com/mobile-app-development/?utm_campaign=directory&amp;utm_medium=referral&amp;utm_source=themanifest.com',\n",
       " 'http://www.saviantconsulting.com?utm_campaign=directory&amp;utm_medium=referral&amp;utm_source=themanifest.com',\n",
       " 'https://clutch.co/profile/saviant-consulting?utm_source=themanifest&utm_medium=profile&utm_content=2129022500000#reviews',\n",
       " 'https://clutch.co/profile/softprodigy?utm_source=themanifest&utm_medium=profile&utm_content=2129022500000#reviews']"
      ]
     },
     "execution_count": 137,
     "metadata": {},
     "output_type": "execute_result"
    }
   ],
   "source": [
    "Website"
   ]
  },
  {
   "cell_type": "code",
   "execution_count": null,
   "metadata": {},
   "outputs": [],
   "source": []
  }
 ],
 "metadata": {
  "kernelspec": {
   "display_name": "Python 3.10.3 64-bit",
   "language": "python",
   "name": "python3"
  },
  "language_info": {
   "codemirror_mode": {
    "name": "ipython",
    "version": 3
   },
   "file_extension": ".py",
   "mimetype": "text/x-python",
   "name": "python",
   "nbconvert_exporter": "python",
   "pygments_lexer": "ipython3",
   "version": "3.10.3"
  },
  "orig_nbformat": 4,
  "vscode": {
   "interpreter": {
    "hash": "ec04501b160b2f1c023a0c328658c9281b4c362c04e2daca7181a08fdf12613c"
   }
  }
 },
 "nbformat": 4,
 "nbformat_minor": 2
}
